{
 "cells": [
  {
   "cell_type": "code",
   "execution_count": 8,
   "metadata": {},
   "outputs": [],
   "source": [
    "import pandas as pd\n",
    "import numpy as np"
   ]
  },
  {
   "cell_type": "code",
   "execution_count": 9,
   "metadata": {},
   "outputs": [],
   "source": [
    "kdd = pd.read_csv('../kdd/wtbdata_245days.csv')"
   ]
  },
  {
   "cell_type": "code",
   "execution_count": null,
   "metadata": {},
   "outputs": [],
   "source": []
  },
  {
   "cell_type": "code",
   "execution_count": 10,
   "metadata": {},
   "outputs": [],
   "source": [
    "kdd = kdd.sort_values(by=['Tmstamp', 'Day', 'TurbID'])"
   ]
  },
  {
   "cell_type": "code",
   "execution_count": 11,
   "metadata": {},
   "outputs": [],
   "source": [
    "kdd = kdd.fillna(0)"
   ]
  },
  {
   "cell_type": "code",
   "execution_count": 12,
   "metadata": {},
   "outputs": [
    {
     "data": {
      "text/plain": [
       "(4727520, 13)"
      ]
     },
     "execution_count": 12,
     "metadata": {},
     "output_type": "execute_result"
    }
   ],
   "source": [
    "kdd.shape"
   ]
  },
  {
   "cell_type": "code",
   "execution_count": 6,
   "metadata": {},
   "outputs": [
    {
     "data": {
      "text/plain": [
       "35280.0"
      ]
     },
     "execution_count": 6,
     "metadata": {},
     "output_type": "execute_result"
    }
   ],
   "source": [
    "4727520/134"
   ]
  },
  {
   "cell_type": "code",
   "execution_count": 7,
   "metadata": {},
   "outputs": [],
   "source": [
    "kdd.to_csv('../kdd/kdd_train_o.csv')"
   ]
  },
  {
   "cell_type": "code",
   "execution_count": 8,
   "metadata": {},
   "outputs": [
    {
     "data": {
      "text/plain": [
       "Text(0, 0.5, 'Count')"
      ]
     },
     "execution_count": 8,
     "metadata": {},
     "output_type": "execute_result"
    },
    {
     "data": {
      "image/png": "[encoded data removed]",
      "text/plain": [
       "<Figure size 432x288 with 1 Axes>"
      ]
     },
     "metadata": {
      "needs_background": "light"
     },
     "output_type": "display_data"
    }
   ],
   "source": [
    "import matplotlib.pyplot as plt\n",
    "plt.hist(kdd['Patv'])\n",
    "plt.xlabel('Value')\n",
    "plt.ylabel('Count')"
   ]
  },
  {
   "cell_type": "code",
   "execution_count": null,
   "metadata": {},
   "outputs": [],
   "source": []
  },
  {
   "cell_type": "code",
   "execution_count": 20,
   "metadata": {},
   "outputs": [],
   "source": [
    "kdd_train = kdd[0:int(35280*0.9)*134]"
   ]
  },
  {
   "cell_type": "code",
   "execution_count": 23,
   "metadata": {},
   "outputs": [],
   "source": [
    "kdd_train.to_csv('../kdd/kdd_train.csv')"
   ]
  },
  {
   "cell_type": "code",
   "execution_count": 24,
   "metadata": {},
   "outputs": [],
   "source": [
    "kdd_test = kdd[int(35280*0.9)*134:]"
   ]
  },
  {
   "cell_type": "code",
   "execution_count": 25,
   "metadata": {},
   "outputs": [],
   "source": [
    "kdd_test.to_csv('../kdd/kdd_test.csv')"
   ]
  },
  {
   "cell_type": "code",
   "execution_count": 26,
   "metadata": {},
   "outputs": [
    {
     "data": {
      "text/html": [
       "<div>\n",
       "<style scoped>\n",
       "    .dataframe tbody tr th:only-of-type {\n",
       "        vertical-align: middle;\n",
       "    }\n",
       "\n",
       "    .dataframe tbody tr th {\n",
       "        vertical-align: top;\n",
       "    }\n",
       "\n",
       "    .dataframe thead th {\n",
       "        text-align: right;\n",
       "    }\n",
       "</style>\n",
       "<table border=\"1\" class=\"dataframe\">\n",
       "  <thead>\n",
       "    <tr style=\"text-align: right;\">\n",
       "      <th></th>\n",
       "      <th>TurbID</th>\n",
       "      <th>Day</th>\n",
       "      <th>Tmstamp</th>\n",
       "      <th>Wspd</th>\n",
       "      <th>Wdir</th>\n",
       "      <th>Etmp</th>\n",
       "      <th>Itmp</th>\n",
       "      <th>Ndir</th>\n",
       "      <th>Pab1</th>\n",
       "      <th>Pab2</th>\n",
       "      <th>Pab3</th>\n",
       "      <th>Prtv</th>\n",
       "      <th>Patv</th>\n",
       "    </tr>\n",
       "  </thead>\n",
       "  <tbody>\n",
       "    <tr>\n",
       "      <th>21297</th>\n",
       "      <td>1</td>\n",
       "      <td>148</td>\n",
       "      <td>21:30</td>\n",
       "      <td>2.22</td>\n",
       "      <td>-42.79</td>\n",
       "      <td>28.57</td>\n",
       "      <td>39.28</td>\n",
       "      <td>204.59</td>\n",
       "      <td>1.90</td>\n",
       "      <td>1.90</td>\n",
       "      <td>1.90</td>\n",
       "      <td>-0.30</td>\n",
       "      <td>-0.30</td>\n",
       "    </tr>\n",
       "    <tr>\n",
       "      <th>56577</th>\n",
       "      <td>2</td>\n",
       "      <td>148</td>\n",
       "      <td>21:30</td>\n",
       "      <td>1.98</td>\n",
       "      <td>-44.31</td>\n",
       "      <td>22.90</td>\n",
       "      <td>34.20</td>\n",
       "      <td>178.72</td>\n",
       "      <td>90.37</td>\n",
       "      <td>90.37</td>\n",
       "      <td>90.38</td>\n",
       "      <td>-0.30</td>\n",
       "      <td>-0.30</td>\n",
       "    </tr>\n",
       "    <tr>\n",
       "      <th>91857</th>\n",
       "      <td>3</td>\n",
       "      <td>148</td>\n",
       "      <td>21:30</td>\n",
       "      <td>2.09</td>\n",
       "      <td>-44.00</td>\n",
       "      <td>28.50</td>\n",
       "      <td>41.92</td>\n",
       "      <td>25.52</td>\n",
       "      <td>90.38</td>\n",
       "      <td>90.37</td>\n",
       "      <td>90.37</td>\n",
       "      <td>-0.30</td>\n",
       "      <td>-0.30</td>\n",
       "    </tr>\n",
       "    <tr>\n",
       "      <th>127137</th>\n",
       "      <td>4</td>\n",
       "      <td>148</td>\n",
       "      <td>21:30</td>\n",
       "      <td>2.04</td>\n",
       "      <td>-56.72</td>\n",
       "      <td>29.90</td>\n",
       "      <td>31.39</td>\n",
       "      <td>201.09</td>\n",
       "      <td>90.39</td>\n",
       "      <td>90.38</td>\n",
       "      <td>90.38</td>\n",
       "      <td>-0.30</td>\n",
       "      <td>-0.30</td>\n",
       "    </tr>\n",
       "    <tr>\n",
       "      <th>162417</th>\n",
       "      <td>5</td>\n",
       "      <td>148</td>\n",
       "      <td>21:30</td>\n",
       "      <td>2.01</td>\n",
       "      <td>-52.89</td>\n",
       "      <td>27.62</td>\n",
       "      <td>31.09</td>\n",
       "      <td>160.46</td>\n",
       "      <td>89.99</td>\n",
       "      <td>89.96</td>\n",
       "      <td>89.99</td>\n",
       "      <td>0.00</td>\n",
       "      <td>-0.30</td>\n",
       "    </tr>\n",
       "    <tr>\n",
       "      <th>...</th>\n",
       "      <td>...</td>\n",
       "      <td>...</td>\n",
       "      <td>...</td>\n",
       "      <td>...</td>\n",
       "      <td>...</td>\n",
       "      <td>...</td>\n",
       "      <td>...</td>\n",
       "      <td>...</td>\n",
       "      <td>...</td>\n",
       "      <td>...</td>\n",
       "      <td>...</td>\n",
       "      <td>...</td>\n",
       "      <td>...</td>\n",
       "    </tr>\n",
       "    <tr>\n",
       "      <th>4586399</th>\n",
       "      <td>130</td>\n",
       "      <td>245</td>\n",
       "      <td>23:50</td>\n",
       "      <td>8.03</td>\n",
       "      <td>-2.49</td>\n",
       "      <td>-0.49</td>\n",
       "      <td>7.96</td>\n",
       "      <td>366.18</td>\n",
       "      <td>0.03</td>\n",
       "      <td>0.04</td>\n",
       "      <td>0.04</td>\n",
       "      <td>-37.38</td>\n",
       "      <td>1031.21</td>\n",
       "    </tr>\n",
       "    <tr>\n",
       "      <th>4621679</th>\n",
       "      <td>131</td>\n",
       "      <td>245</td>\n",
       "      <td>23:50</td>\n",
       "      <td>8.74</td>\n",
       "      <td>-0.89</td>\n",
       "      <td>-0.60</td>\n",
       "      <td>13.54</td>\n",
       "      <td>186.90</td>\n",
       "      <td>0.01</td>\n",
       "      <td>0.01</td>\n",
       "      <td>0.01</td>\n",
       "      <td>-30.03</td>\n",
       "      <td>1123.69</td>\n",
       "    </tr>\n",
       "    <tr>\n",
       "      <th>4656959</th>\n",
       "      <td>132</td>\n",
       "      <td>245</td>\n",
       "      <td>23:50</td>\n",
       "      <td>10.33</td>\n",
       "      <td>-3.42</td>\n",
       "      <td>-2.10</td>\n",
       "      <td>11.07</td>\n",
       "      <td>278.12</td>\n",
       "      <td>0.04</td>\n",
       "      <td>0.04</td>\n",
       "      <td>0.05</td>\n",
       "      <td>-29.20</td>\n",
       "      <td>1221.91</td>\n",
       "    </tr>\n",
       "    <tr>\n",
       "      <th>4692239</th>\n",
       "      <td>133</td>\n",
       "      <td>245</td>\n",
       "      <td>23:50</td>\n",
       "      <td>7.64</td>\n",
       "      <td>-5.55</td>\n",
       "      <td>1.50</td>\n",
       "      <td>5.87</td>\n",
       "      <td>231.58</td>\n",
       "      <td>0.01</td>\n",
       "      <td>0.01</td>\n",
       "      <td>0.01</td>\n",
       "      <td>-40.18</td>\n",
       "      <td>1205.26</td>\n",
       "    </tr>\n",
       "    <tr>\n",
       "      <th>4727519</th>\n",
       "      <td>134</td>\n",
       "      <td>245</td>\n",
       "      <td>23:50</td>\n",
       "      <td>8.68</td>\n",
       "      <td>0.52</td>\n",
       "      <td>-0.06</td>\n",
       "      <td>4.39</td>\n",
       "      <td>216.51</td>\n",
       "      <td>0.01</td>\n",
       "      <td>0.01</td>\n",
       "      <td>0.01</td>\n",
       "      <td>-44.75</td>\n",
       "      <td>1181.49</td>\n",
       "    </tr>\n",
       "  </tbody>\n",
       "</table>\n",
       "<p>472752 rows × 13 columns</p>\n",
       "</div>"
      ],
      "text/plain": [
       "         TurbID  Day Tmstamp   Wspd   Wdir   Etmp   Itmp    Ndir   Pab1  \\\n",
       "21297         1  148   21:30   2.22 -42.79  28.57  39.28  204.59   1.90   \n",
       "56577         2  148   21:30   1.98 -44.31  22.90  34.20  178.72  90.37   \n",
       "91857         3  148   21:30   2.09 -44.00  28.50  41.92   25.52  90.38   \n",
       "127137        4  148   21:30   2.04 -56.72  29.90  31.39  201.09  90.39   \n",
       "162417        5  148   21:30   2.01 -52.89  27.62  31.09  160.46  89.99   \n",
       "...         ...  ...     ...    ...    ...    ...    ...     ...    ...   \n",
       "4586399     130  245   23:50   8.03  -2.49  -0.49   7.96  366.18   0.03   \n",
       "4621679     131  245   23:50   8.74  -0.89  -0.60  13.54  186.90   0.01   \n",
       "4656959     132  245   23:50  10.33  -3.42  -2.10  11.07  278.12   0.04   \n",
       "4692239     133  245   23:50   7.64  -5.55   1.50   5.87  231.58   0.01   \n",
       "4727519     134  245   23:50   8.68   0.52  -0.06   4.39  216.51   0.01   \n",
       "\n",
       "          Pab2   Pab3   Prtv     Patv  \n",
       "21297     1.90   1.90  -0.30    -0.30  \n",
       "56577    90.37  90.38  -0.30    -0.30  \n",
       "91857    90.37  90.37  -0.30    -0.30  \n",
       "127137   90.38  90.38  -0.30    -0.30  \n",
       "162417   89.96  89.99   0.00    -0.30  \n",
       "...        ...    ...    ...      ...  \n",
       "4586399   0.04   0.04 -37.38  1031.21  \n",
       "4621679   0.01   0.01 -30.03  1123.69  \n",
       "4656959   0.04   0.05 -29.20  1221.91  \n",
       "4692239   0.01   0.01 -40.18  1205.26  \n",
       "4727519   0.01   0.01 -44.75  1181.49  \n",
       "\n",
       "[472752 rows x 13 columns]"
      ]
     },
     "execution_count": 26,
     "metadata": {},
     "output_type": "execute_result"
    }
   ],
   "source": [
    "kdd_test"
   ]
  },
  {
   "cell_type": "code",
   "execution_count": null,
   "metadata": {},
   "outputs": [],
   "source": []
  }
 ],
 "metadata": {
  "kernelspec": {
   "display_name": "Python 3 (ipykernel)",
   "language": "python",
   "name": "python3"
  },
  "language_info": {
   "codemirror_mode": {
    "name": "ipython",
    "version": 3
   },
   "file_extension": ".py",
   "mimetype": "text/x-python",
   "name": "python",
   "nbconvert_exporter": "python",
   "pygments_lexer": "ipython3",
   "version": "3.8.11"
  },
  "vscode": {
   "interpreter": {
    "hash": "ad2bdc8ecc057115af97d19610ffacc2b4e99fae6737bb82f5d7fb13d2f2c186"
   }
  }
 },
 "nbformat": 4,
 "nbformat_minor": 4
}
